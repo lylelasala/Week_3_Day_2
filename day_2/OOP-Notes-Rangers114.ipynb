{
 "cells": [
  {
   "cell_type": "markdown",
   "metadata": {},
   "source": [
    "# Object-Oriented-Programming (OOP)"
   ]
  },
  {
   "cell_type": "markdown",
   "metadata": {},
   "source": [
    "## Tasks Today:\n",
    "\n",
    "   \n",
    "\n",
    "1) <b>Creating a Class (Initializing/Declaring)</b> <br>\n",
    "2) <b>Using a Class (Instantiating)</b> <br>\n",
    " &nbsp;&nbsp;&nbsp;&nbsp; a) Creating One Instance <br>\n",
    " &nbsp;&nbsp;&nbsp;&nbsp; b) Creating Multiple Instances <br>\n",
    " &nbsp;&nbsp;&nbsp;&nbsp; c) In-Class Exercise #1 - Create a Class 'Car' and instantiate three different makes of cars <br>\n",
    "3) <b>The \\__init\\__() Method</b> <br>\n",
    " &nbsp;&nbsp;&nbsp;&nbsp; a) The 'self' Attribute <br>\n",
    "4) <b>Class Attributes</b> <br>\n",
    " &nbsp;&nbsp;&nbsp;&nbsp; a) Initializing Attributes <br>\n",
    " &nbsp;&nbsp;&nbsp;&nbsp; b) Setting an Attribute Outside of the \\__init\\__() Method <br>\n",
    " &nbsp;&nbsp;&nbsp;&nbsp; c) Setting Defaults for Attributes <br>\n",
    " &nbsp;&nbsp;&nbsp;&nbsp; d) Accessing Class Attributes <br>\n",
    " &nbsp;&nbsp;&nbsp;&nbsp; e) Changing Class Attributes <br>\n",
    " &nbsp;&nbsp;&nbsp;&nbsp; f) In-Class Exercise #2 - Add a color and wheels attribute to your 'Car' class <br>\n",
    "5) <b>Class Methods</b> <br>\n",
    " &nbsp;&nbsp;&nbsp;&nbsp; a) Creating <br>\n",
    " &nbsp;&nbsp;&nbsp;&nbsp; b) Calling <br>\n",
    " &nbsp;&nbsp;&nbsp;&nbsp; c) Modifying an Attribute's Value Through a Method <br>\n",
    " &nbsp;&nbsp;&nbsp;&nbsp; d) Incrementing an Attribute's Value Through a Method <br>\n",
    " &nbsp;&nbsp;&nbsp;&nbsp; e) In-Class Exercise #3 - Add a method that prints the cars color and wheel number, then call them <br>\n",
    "6) <b>Inheritance</b> <br>\n",
    " &nbsp;&nbsp;&nbsp;&nbsp; a) Syntax for Inheriting from a Parent Class <br>\n",
    " &nbsp;&nbsp;&nbsp;&nbsp; b) The \\__init\\__() Method for a Child Class (super()) <br>\n",
    " &nbsp;&nbsp;&nbsp;&nbsp; c) Defining Attributes and Methods for the Child Class <br>\n",
    " &nbsp;&nbsp;&nbsp;&nbsp; d) Method Overriding <br>\n",
    " &nbsp;&nbsp;&nbsp;&nbsp; e) In-Class Exercise #4 - Create a class 'Ford' that inherits from 'Car' class and initialize it as a Blue Ford Explorer with 4 wheels using the super() method <br>\n",
    "7) <b>Classes as Attributes</b> <br>\n",
    "8) <b>Exercises</b> <br>\n",
    " &nbsp;&nbsp;&nbsp;&nbsp; a) Exercise #1 - Turn the shopping cart program from last week into an object-oriented program <br>"
   ]
  },
  {
   "cell_type": "markdown",
   "metadata": {},
   "source": [
    "## Creating a Class (Initializing/Declaring)\n",
    "<p>When creating a class, function, or even a variable you are initializing that object. Initializing and Declaring occur at the same time in Python, whereas in lower level languages you have to declare an object before initializing it. This is the first step in the process of using a class.</p>"
   ]
  },
  {
   "cell_type": "code",
   "execution_count": 1,
   "metadata": {},
   "outputs": [],
   "source": [
    "class Car():\n",
    "    wheels = 4\n",
    "    color = \"blue\""
   ]
  },
  {
   "cell_type": "markdown",
   "metadata": {},
   "source": [
    "## Using a Class (Instantiating)\n",
    "<p>The process of creating a class is called <i>Instantiating</i>. Each time you create a variable of that type of class, it is referred to as an <i>Instance</i> of that class. This is the second step in the process of using a class.</p>"
   ]
  },
  {
   "cell_type": "markdown",
   "metadata": {},
   "source": [
    "##### Creating One Instance"
   ]
  },
  {
   "cell_type": "code",
   "execution_count": 2,
   "metadata": {},
   "outputs": [
    {
     "name": "stdout",
     "output_type": "stream",
     "text": [
      "4\n",
      "blue\n"
     ]
    }
   ],
   "source": [
    "mazda = Car() #c------ need parentheses\n",
    "\n",
    "print(mazda.wheels)\n",
    "print(mazda.color)\n",
    "\n",
    "#print(mazda.___dict___)\n"
   ]
  },
  {
   "cell_type": "markdown",
   "metadata": {},
   "source": [
    "##### Creating Multiple Instances"
   ]
  },
  {
   "cell_type": "code",
   "execution_count": 7,
   "metadata": {},
   "outputs": [
    {
     "name": "stdout",
     "output_type": "stream",
     "text": [
      "4\n",
      "4\n",
      "blue\n",
      "red\n"
     ]
    }
   ],
   "source": [
    "ford = Car()\n",
    "honda = Car()\n",
    "chevy = Car()\n",
    "\n",
    "print(ford.wheels)\n",
    "print(honda.wheels)\n",
    "print(chevy.color\n",
    "    )\n",
    "\n",
    "chevy.color = \"red\"\n",
    "print(chevy.color)"
   ]
  },
  {
   "cell_type": "markdown",
   "metadata": {},
   "source": [
    "##### In-Class Exercise #1 - Create a Class 'Car' and Instantiate three different makes of cars"
   ]
  },
  {
   "cell_type": "code",
   "execution_count": null,
   "metadata": {},
   "outputs": [],
   "source": [
    "#give your car at least 3 attributes and access as many of these attributes as you like with a print"
   ]
  },
  {
   "cell_type": "code",
   "execution_count": 5,
   "metadata": {},
   "outputs": [
    {
     "name": "stdout",
     "output_type": "stream",
     "text": [
      "white\n"
     ]
    }
   ],
   "source": [
    "class Car():\n",
    "\n",
    "    wheels = 4\n",
    "    body = \"white\"\n",
    "    type = \"electric\"\n",
    "\n",
    "tesla = Car()\n",
    "audi = Car()\n",
    "mercedes = Car ()\n",
    "\n",
    "tesla.company = \"tesla\"\n",
    "audi.company = \"audi\"\n",
    "mercedes.company = \"mercedes\"\n",
    "\n",
    "print(tesla.body)"
   ]
  },
  {
   "cell_type": "code",
   "execution_count": 7,
   "metadata": {},
   "outputs": [
    {
     "name": "stdout",
     "output_type": "stream",
     "text": [
      "orange\n"
     ]
    }
   ],
   "source": [
    "class Car():\n",
    "    \n",
    "    size = \"large\"\n",
    "    seats = 8\n",
    "    color = \"orange\"\n",
    "\n",
    "chevy = Car()\n",
    "ford = Car()\n",
    "chrysler = Car()\n",
    "\n",
    "chevy.company = \"chevy\"\n",
    "ford.company = \"ford\"\n",
    "chrysler.company = \"chrysler\"\n",
    "\n",
    "print(chevy.color)\n"
   ]
  },
  {
   "cell_type": "markdown",
   "metadata": {},
   "source": [
    "## The \\__init\\__() Method <br>\n",
    "<p>This method is used in almost every created class, and called only once upon the creation of the class instance. This method will initialize all variables needed for the object.</p>"
   ]
  },
  {
   "cell_type": "code",
   "execution_count": null,
   "metadata": {},
   "outputs": [],
   "source": [
    "class Car():\n",
    "    def __init__(self, wheels, color, doors):\n",
    "        self.cart = color #honda.wheels = Car(<whatever the wheels argument is that we pass into the class instantiation>)\n",
    "        self.color = wheels #honda.color = ^^\n",
    "        \n",
    "        \n",
    "    def add_to_cart(self):\n",
    "        self.cart['item '] = 'apple'"
   ]
  },
  {
   "cell_type": "code",
   "execution_count": 10,
   "metadata": {},
   "outputs": [
    {
     "name": "stdout",
     "output_type": "stream",
     "text": [
      "blue\n",
      "black\n",
      "orange\n",
      "red\n",
      "black\n",
      "orange\n",
      "<class '__main__.Car'>\n",
      "{'wheels': 4, 'color': 'red', 'doors': 4}\n",
      "{'wheels': 4, 'color': 'red', 'doors': 4}\n",
      "4\n"
     ]
    }
   ],
   "source": [
    "class Car():\n",
    "    def __init__(self, wheels, color, doors):\n",
    "        self.wheels = wheels #honda.wheels = Car(<whatever the wheels argument is that we pass into the class instantiation>)\n",
    "        self.color = color #honda.color = ^^\n",
    "        self.doors = doors\n",
    "        \n",
    "mazda = Car(4, \"blue\", 4)\n",
    "\n",
    "chevy = Car(6, \"black\", 4)\n",
    "\n",
    "subaru = Car(4, \"orange\", 5)\n",
    "\n",
    "print(mazda.color)\n",
    "print(chevy.color)\n",
    "print(subaru.color)\n",
    "\n",
    "mazda.color = 'red'\n",
    "print(mazda.color)\n",
    "print(chevy.color)\n",
    "print(subaru.color)\n",
    "\n",
    "print(type(mazda))\n",
    "\n",
    "print(mazda.__dict__)\n",
    "\n",
    "mazda_dict = mazda.__dict__\n",
    "\n",
    "print(mazda_dict)\n",
    "print(mazda_dict['wheels'])\n",
    "\n"
   ]
  },
  {
   "cell_type": "markdown",
   "metadata": {},
   "source": [
    "##### The 'self' Attribute <br>\n",
    "<p>This attribute is required to keep track of specific instance's attributes. Without the self attribute, the program would not know how to reference or keep track of an instance's attributes.</p>"
   ]
  },
  {
   "cell_type": "code",
   "execution_count": 3,
   "metadata": {},
   "outputs": [],
   "source": [
    "class Pokemon():\n",
    "    def __init__ (self,type_): \n",
    "        #self will hold the place of the object we eventually instantiate\n",
    "        self.name = self.set_name()\n",
    "        self.type = type_ #< --- underscore after type because is a seserved name for a function\n",
    "    \n",
    "    def print_info(self): #class methods always take in self\n",
    "        print(f\"This is {self.name}. It is a {self.type} type.\")\n",
    "        \n",
    "    def set_name(self):\n",
    "        name = input(\"What is your Pokemon's name?\")\n",
    "        return name\n",
    "    "
   ]
  },
  {
   "cell_type": "markdown",
   "metadata": {},
   "source": [
    "## Class Attributes <br>\n",
    "<p>While variables are inside of a class, they are referred to as attributes and not variables. When someone says 'attribute' you know they're speaking about a class. Attributes can be initialized through the init method, or outside of it.</p>"
   ]
  },
  {
   "cell_type": "markdown",
   "metadata": {},
   "source": [
    "##### Initializing Attributes"
   ]
  },
  {
   "cell_type": "code",
   "execution_count": 4,
   "metadata": {},
   "outputs": [
    {
     "name": "stdout",
     "output_type": "stream",
     "text": [
      "What is your Pokemon's name?charmander\n"
     ]
    }
   ],
   "source": [
    "charmander = Pokemon(\"fire\")"
   ]
  },
  {
   "cell_type": "markdown",
   "metadata": {},
   "source": [
    "##### Accessing Class Attributes"
   ]
  },
  {
   "cell_type": "code",
   "execution_count": 5,
   "metadata": {
    "scrolled": true
   },
   "outputs": [
    {
     "name": "stdout",
     "output_type": "stream",
     "text": [
      "charmander\n",
      "fire\n",
      "{'name': 'charmander', 'type': 'fire'}\n"
     ]
    }
   ],
   "source": [
    "print (charmander.name)\n",
    "print(charmander.type)\n",
    "print(charmander.__dict__)"
   ]
  },
  {
   "cell_type": "markdown",
   "metadata": {},
   "source": [
    "##### Setting Defaults for Attributes"
   ]
  },
  {
   "cell_type": "code",
   "execution_count": 15,
   "metadata": {},
   "outputs": [
    {
     "name": "stdout",
     "output_type": "stream",
     "text": [
      "Blue\n",
      "Red\n",
      "4\n",
      "Red\n",
      "yellow\n",
      "\n",
      "\n",
      "orange\n"
     ]
    }
   ],
   "source": [
    "#setting a default attribute insdie of the __init__\n",
    "class Car():\n",
    "    def __init__(self, color, seat, make wheels):\n",
    "        self.wheels = wheels \n",
    "        self.color = \"Blue\"\n",
    "honda = Car(4)\n",
    "print(honda.color)\n",
    "honda.color = \"Red\"\n",
    "print(honda.color)\n",
    "\n",
    "# setting a default parametter in the __init__\n",
    "class Car():\n",
    "    def __init__(self, wheels, color = \"Red\"):\n",
    "        self.wheels = wheels\n",
    "        self.color = color\n",
    "        \n",
    "ford = Car (4)\n",
    "print(ford.wheels)\n",
    "print(ford.color)\n",
    "ford.color = \"yellow\"\n",
    "print(ford.color)\n",
    "print(\"\\n\")\n",
    "toyota = Car(4, 'orange')\n",
    "print(toyota.color)"
   ]
  },
  {
   "cell_type": "markdown",
   "metadata": {},
   "source": [
    "##### Changing Class Attributes <br>\n",
    "<p>Keep in mind there are global class attributes and then there are attributes only available to each class instance which won't effect other classes.</p>"
   ]
  },
  {
   "cell_type": "code",
   "execution_count": 16,
   "metadata": {},
   "outputs": [
    {
     "name": "stdout",
     "output_type": "stream",
     "text": [
      "Cheetor before he was broken: True he is fun\n",
      "Cheetor after he was broken: False he is fun\n"
     ]
    }
   ],
   "source": [
    "class Toy():\n",
    "    def __init__ (self, name, is_it_fun):\n",
    "        self.name = name\n",
    "        self.is_it_fun = is_it_fun\n",
    "        \n",
    "beast_wars = Toy(\"Cheetor\", True)\n",
    "print(f\"Cheetor before he was broken: {beast_wars.is_it_fun} he is fun\")\n",
    "beast_wars.is_it_fun = False\n",
    "print(f\"Cheetor after he was broken: {beast_wars.is_it_fun} he is fun\")\n"
   ]
  },
  {
   "cell_type": "code",
   "execution_count": null,
   "metadata": {},
   "outputs": [],
   "source": []
  },
  {
   "cell_type": "markdown",
   "metadata": {},
   "source": [
    "##### In-Class Exercise #2 - Add two new attributes to your 'Car' class then print out two different instances with different doors and seats. Then take that bad boy to the shop and change those attributes. Either with an input or just by changing them"
   ]
  },
  {
   "cell_type": "code",
   "execution_count": 2,
   "metadata": {},
   "outputs": [
    {
     "name": "stdout",
     "output_type": "stream",
     "text": [
      "car1 has 4 doors and 5 seats.\n",
      "car2 has 2 doors and 2 seat. \n",
      "Metallic Grey\n"
     ]
    }
   ],
   "source": [
    "class Car: \n",
    "    def __init__(self, doors, seats, color):\n",
    "        self.doors = doors \n",
    "        self.seats = seats\n",
    "        self.color = color\n",
    "        self.engine_type = \"gasoline\"\n",
    "        self.transmission = \"automatic\"\n",
    "        \n",
    "car1 = Car(doors=4, seats=5, color=\"red\")\n",
    "car2 = Car(doors=2, seats=2, color=\"blue\")\n",
    "\n",
    "print(f\"car1 has {car1.doors} doors and {car1.seats} seats.\")\n",
    "print(f\"car2 has {car2.doors} doors and {car2.seats} seat. \")\n",
    "\n",
    "car1.color = \"Metallic Grey\"\n",
    "print(car1.color)"
   ]
  },
  {
   "cell_type": "code",
   "execution_count": 1,
   "metadata": {},
   "outputs": [
    {
     "ename": "TypeError",
     "evalue": "__init__() missing 3 required positional arguments: 'sauce', 'toppings', and 'crust'",
     "output_type": "error",
     "traceback": [
      "\u001b[1;31m---------------------------------------------------------------------------\u001b[0m",
      "\u001b[1;31mTypeError\u001b[0m                                 Traceback (most recent call last)",
      "\u001b[1;32m~\\AppData\\Local\\Temp\\ipykernel_9848\\2283554943.py\u001b[0m in \u001b[0;36m<module>\u001b[1;34m\u001b[0m\n\u001b[0;32m     17\u001b[0m         \u001b[1;32mreturn\u001b[0m \u001b[0mcrust\u001b[0m\u001b[1;33m\u001b[0m\u001b[1;33m\u001b[0m\u001b[0m\n\u001b[0;32m     18\u001b[0m \u001b[1;33m\u001b[0m\u001b[0m\n\u001b[1;32m---> 19\u001b[1;33m \u001b[0mmy_pizza\u001b[0m \u001b[1;33m=\u001b[0m \u001b[0mPizza\u001b[0m\u001b[1;33m(\u001b[0m\u001b[1;33m)\u001b[0m\u001b[1;33m\u001b[0m\u001b[1;33m\u001b[0m\u001b[0m\n\u001b[0m",
      "\u001b[1;31mTypeError\u001b[0m: __init__() missing 3 required positional arguments: 'sauce', 'toppings', and 'crust'"
     ]
    }
   ],
   "source": [
    "class Pizza():\n",
    "    def __init__(self, sauce, toppings, crust):\n",
    "        self.sauce = self.set_sauce()\n",
    "        self.toppings = self.set_toppings()\n",
    "        self.crust = self.set_crust()\n",
    "    \n",
    "    def set_sauce(self):\n",
    "        sauce = input(\"what kind sauce would you like? \")\n",
    "        return sauce\n",
    "\n",
    "    def set_toppings(self):\n",
    "        toppings = input(\"What would you like on your pizza? \")\n",
    "        return sauce\n",
    "    \n",
    "    def set_crust(self):\n",
    "        crust = input(\"what kind of crust would you like? \")\n",
    "        return crust\n",
    "\n",
    "my_pizza = Pizza()\n"
   ]
  },
  {
   "cell_type": "code",
   "execution_count": 2,
   "metadata": {},
   "outputs": [
    {
     "name": "stdout",
     "output_type": "stream",
     "text": [
      "name: Draciel\n",
      "type: Attack\n",
      "franchise: Beyblade: Chronicles\n",
      "power_level: 9001\n"
     ]
    }
   ],
   "source": [
    "class Toy():\n",
    "    def __init__(self, name, type_, franchise, power_level = 1):\n",
    "        self.name = name\n",
    "        self.type = type_\n",
    "        self.franchise = franchise\n",
    "        self.power_level = power_level\n",
    "        \n",
    "beyblade = Toy('Draciel', 'Attack', 'Beyblade')\n",
    "beyblade.franchise = 'Beyblade: Chronicles'\n",
    "beyblade.power_level += 9000\n",
    "\n",
    "for k, v in beyblade.__dict__.items():\n",
    "    print(f'{k}: {v}')"
   ]
  },
  {
   "cell_type": "markdown",
   "metadata": {},
   "source": [
    "## Class Methods <br>\n",
    "<p>While inside of a class, functions are referred to as 'methods'. If you hear someone mention methods, they're speaking about classes. Methods are essentially functions, but only callable on the instances of a class.</p>"
   ]
  },
  {
   "cell_type": "markdown",
   "metadata": {},
   "source": [
    "##### Creating"
   ]
  },
  {
   "cell_type": "code",
   "execution_count": null,
   "metadata": {},
   "outputs": [],
   "source": [
    "class Bus():\n",
    "    ---\n",
    "    The bus will have doors, seats, seats available, color and a bus driver\n",
    "    \n",
    "    Attributes for the bus:\n",
    "    --doors: integer\n",
    "    --seats: integer\n",
    "    --seats_available: integer\n",
    "    --color: string\n",
    "    --bus_driver: string\n",
    "        \n",
    "    ---\n",
    "    def __init__(self, doors, seats, seats_available, color, bus_driver):\n",
    "        self.doors = doors\n",
    "        self.seats = seats\n",
    "        self.seats_available = seats_available\n",
    "        self.color = color\n",
    "        self.bus_driver = bus_driver\n",
    "    \n",
    "    #decrement the number of seats available\n",
    "    def load_passengers(self):\n",
    "        pass\n",
    "    \n",
    "    #increment the number of seats available\n",
    "    def unload_passengers(self):\n",
    "        pass\n",
    "    \n",
    "    #change the bus driver attribute\n",
    "    def change_driver(self):\n",
    "        pass\n",
    "    \n",
    "    #display number of available seats\n",
    "    def check_seats(self):\n",
    "        pass\n",
    "    \n",
    "    #display bus color\n",
    "    def admire_bus(self):\n",
    "        pass"
   ]
  },
  {
   "cell_type": "markdown",
   "metadata": {},
   "source": [
    "##### Calling"
   ]
  },
  {
   "cell_type": "code",
   "execution_count": null,
   "metadata": {},
   "outputs": [],
   "source": [
    "class Cart():\n",
    "    def __init__(self):\n",
    "        self.items = []\n",
    "        \n",
    "#     def add_item(self):\n",
    "#         item = input(\"What would you like to add?\")\n",
    "#         quantity = int(input(\"How many would you like to add? \"))\n",
    "#         if item not in self.items:\n",
    "#             self.items[item] = quantity\n",
    "#         else:\n",
    "#             self.items[item] += quantity\n",
    "\n",
    "    def add_item(self):\n",
    "        item = input(\"What would you like to add? \")\n",
    "        self.items.append(item)\n",
    "    \n",
    "    def show_cart(self):\n",
    "        print(self.items)\n",
    "        \n",
    "    def remove_item(self):\n",
    "        pass\n",
    "        \n",
    "my_cart = Cart()\n",
    "my_cart.add_item()\n",
    "my_cart.show_cart()\n",
    "my_cart.add_item()\n",
    "my_cart.show_cart()\n"
   ]
  },
  {
   "cell_type": "markdown",
   "metadata": {},
   "source": [
    "##### Modifying an Attribute's Value Through a Method"
   ]
  },
  {
   "cell_type": "code",
   "execution_count": null,
   "metadata": {},
   "outputs": [],
   "source": [
    "# see above\n",
    "# load_passengers()\n",
    "# unload_passengers()\n",
    "# change_driver()"
   ]
  },
  {
   "cell_type": "markdown",
   "metadata": {},
   "source": [
    "##### Incrementing an Attribute's Value Through a Method"
   ]
  },
  {
   "cell_type": "code",
   "execution_count": null,
   "metadata": {},
   "outputs": [],
   "source": [
    "#unload_passengers()"
   ]
  },
  {
   "cell_type": "markdown",
   "metadata": {},
   "source": [
    "##### In-Class Exercise #3 - Add a method that takes in three parameters of year, doors and seats and prints out a formatted print statement with make, model, year, seats, and doors"
   ]
  },
  {
   "cell_type": "code",
   "execution_count": null,
   "metadata": {},
   "outputs": [],
   "source": [
    "# Create class with 2 paramters inside of the __init__ which are make and model, more if you'd like\n",
    "\n",
    "# Create two methods for your class\n",
    "\n",
    "# Create a method that alters an attribute for your class\n",
    "\n",
    "# Display method that prints information about the vehicle\n",
    "\n",
    "# Output: This car is from 2019 and is a Ford Expolorer and has 4 doors and 5 seats\n",
    "\n",
    "# reminder in order to call class methods object.method()\n",
    "\n",
    "\n",
    "\n"
   ]
  },
  {
   "cell_type": "markdown",
   "metadata": {},
   "source": [
    "## Inheritance <br>\n",
    "<p>You can create a child-parent relationship between two classes by using inheritance. What this allows you to do is have overriding methods, but also inherit traits from the parent class. Think of it as an actual parent and child, the child will inherit the parent's genes, as will the classes in OOP</p>"
   ]
  },
  {
   "cell_type": "markdown",
   "metadata": {},
   "source": [
    "##### Syntax for Inheriting from a Parent Class"
   ]
  },
  {
   "cell_type": "code",
   "execution_count": null,
   "metadata": {},
   "outputs": [],
   "source": []
  },
  {
   "cell_type": "markdown",
   "metadata": {},
   "source": [
    "##### The \\__init\\__() Method for a Child Class - super()"
   ]
  },
  {
   "cell_type": "code",
   "execution_count": null,
   "metadata": {
    "scrolled": true
   },
   "outputs": [],
   "source": []
  },
  {
   "cell_type": "markdown",
   "metadata": {},
   "source": [
    "##### Defining Attributes and Methods for the Child Class"
   ]
  },
  {
   "cell_type": "code",
   "execution_count": null,
   "metadata": {},
   "outputs": [],
   "source": [
    "# See Above"
   ]
  },
  {
   "cell_type": "markdown",
   "metadata": {},
   "source": [
    "##### Method Overriding"
   ]
  },
  {
   "cell_type": "code",
   "execution_count": null,
   "metadata": {},
   "outputs": [],
   "source": [
    "# See Above"
   ]
  },
  {
   "cell_type": "markdown",
   "metadata": {},
   "source": [
    "## Classes as Attributes <br>\n",
    "<p>Classes can also be used as attributes within another class. This is useful in situations where you need to keep variables locally stored, instead of globally stored.</p>"
   ]
  },
  {
   "cell_type": "code",
   "execution_count": null,
   "metadata": {},
   "outputs": [],
   "source": []
  },
  {
   "cell_type": "markdown",
   "metadata": {},
   "source": [
    "## Classes as Attributes <br>"
   ]
  },
  {
   "cell_type": "markdown",
   "metadata": {},
   "source": [
    "<b>Generators in classes</b>"
   ]
  },
  {
   "cell_type": "code",
   "execution_count": null,
   "metadata": {},
   "outputs": [],
   "source": []
  },
  {
   "cell_type": "markdown",
   "metadata": {},
   "source": [
    "# Exercises"
   ]
  },
  {
   "cell_type": "markdown",
   "metadata": {},
   "source": [
    "### Exercise 1 - Turn the shopping cart program from last week into an object-oriented program\n",
    "\n",
    "The comments in the cell below are there as a guide for thinking about the problem. However, if you feel a different way is best for you and your own thought process, please do what feels best for you by all means."
   ]
  },
  {
   "cell_type": "code",
   "execution_count": null,
   "metadata": {},
   "outputs": [],
   "source": [
    "#last week's assignment Week 2 Day 3\n",
    "# shopping_cart = {}\n",
    "\n",
    "# while True:\n",
    "#     print(\"Enter 'add' to add an item, 'delete' to remove an item, 'show' to display the current shopping cart, or 'quit' to exit.\")\n",
    "#     user = input(\"What would you like to do? \").lower()\n",
    "\n",
    "#     if user == \"add\":\n",
    "#         item = input(\"What item would you like to add? \")\n",
    "#         quantity = int(input(\"How many? \"))\n",
    "#         shopping_cart[item] = quantity\n",
    "        \n",
    "#         print(f\"{item} has been added to your shopping cart.\")\n",
    "        \n",
    "#     elif user == \"delete\":\n",
    "#         if not shopping_cart:\n",
    "#             print(\"Your shopping cart is empty.\")\n",
    "#             continue\n",
    "#         item = input(\"What item would you like to remove? \")\n",
    "#         if item in shopping_cart:\n",
    "#             del shopping_cart[item]\n",
    "#             print(f\"{item} has been removed from your shopping cart.\")\n",
    "#         else:\n",
    "#             print(f\"{item} is not in your shopping cart.\")\n",
    "\n",
    "#     elif user == \"show\":\n",
    "#         if not shopping_cart:\n",
    "#             print(\"Your shopping cart is empty.\")\n",
    "#         else:\n",
    "#             print(\"Here is your current shopping cart:\")\n",
    "#             for item, quantity in shopping_cart.items():\n",
    "#                 print(\"- \" + str(quantity) + \" \" + item)\n",
    "\n",
    "#     elif user == \"quit\":\n",
    "#         print(\"Thank you for shopping with us!\")\n",
    "#         break\n",
    "\n",
    "#     else:\n",
    "#         print(\"Invalid input. Please try again.\")\n",
    "        \n",
    "# print(\"Here is a summary of your shopping cart:\")\n",
    "# for item, quantity in shopping_cart.items():\n",
    "#     print(\"- \" + str(quantity) + \" \" + item)"
   ]
  },
  {
   "cell_type": "code",
   "execution_count": null,
   "metadata": {},
   "outputs": [],
   "source": [
    "# # Create a class called cart that retains items and has methods to add, remove, and show"
   ]
  },
  {
   "cell_type": "code",
   "execution_count": 1,
   "metadata": {},
   "outputs": [],
   "source": [
    "class Cart:\n",
    "    def __init__(self):\n",
    "        self.shopping_cart = {}\n",
    "\n",
    "    def add_item(self, item, quantity):\n",
    "        self.shopping_cart[item] = quantity\n",
    "        print(f\"{quantity} {item} has been added to your shopping cart.\")\n",
    "\n",
    "    def remove_item(self, item):\n",
    "        if item in self.shopping_cart:\n",
    "            del self.shopping_cart[item]\n",
    "            print(f\"{item} has been removed from your shopping cart.\")\n",
    "        else:\n",
    "            print(f\"{item} is not in your shopping cart.\")\n",
    "\n",
    "    def show_cart(self):\n",
    "        if not self.shopping_cart:\n",
    "            print(\"Your shopping cart is empty.\")\n",
    "        else:\n",
    "            print(\"Here is your current shopping cart:\")\n",
    "            for item, quantity in self.shopping_cart.items():\n",
    "                print(\"- \" + str(quantity) + \" \" + item)\n"
   ]
  },
  {
   "cell_type": "code",
   "execution_count": 2,
   "metadata": {},
   "outputs": [
    {
     "name": "stdout",
     "output_type": "stream",
     "text": [
      "Enter 'add' to add an item, 'remove' to remove an item, 'show' to display the current shopping cart, or 'quit' to exit.\n",
      "What would you like to do? top ramen\n",
      "Invalid input. Please try again.\n",
      "Enter 'add' to add an item, 'remove' to remove an item, 'show' to display the current shopping cart, or 'quit' to exit.\n",
      "What would you like to do? add\n",
      "What item would you like to add? top ramen\n",
      "How many? 4\n",
      "4 top ramen has been added to your shopping cart.\n",
      "Enter 'add' to add an item, 'remove' to remove an item, 'show' to display the current shopping cart, or 'quit' to exit.\n",
      "What would you like to do? add\n",
      "What item would you like to add? cereal\n",
      "How many? 6\n",
      "6 cereal has been added to your shopping cart.\n",
      "Enter 'add' to add an item, 'remove' to remove an item, 'show' to display the current shopping cart, or 'quit' to exit.\n",
      "What would you like to do? add\n",
      "What item would you like to add? limeade\n",
      "How many? 2\n",
      "2 limeade has been added to your shopping cart.\n",
      "Enter 'add' to add an item, 'remove' to remove an item, 'show' to display the current shopping cart, or 'quit' to exit.\n",
      "What would you like to do? remove\n",
      "What item would you like to remove? top ramen\n",
      "top ramen has been removed from your shopping cart.\n",
      "Enter 'add' to add an item, 'remove' to remove an item, 'show' to display the current shopping cart, or 'quit' to exit.\n",
      "What would you like to do? show\n",
      "Here is your current shopping cart:\n",
      "- 6 cereal\n",
      "- 2 limeade\n",
      "Enter 'add' to add an item, 'remove' to remove an item, 'show' to display the current shopping cart, or 'quit' to exit.\n",
      "What would you like to do? quit\n",
      "Thank you for shopping with us!\n",
      "Here is a summary of your shopping cart:\n",
      "Here is your current shopping cart:\n",
      "- 6 cereal\n",
      "- 2 limeade\n"
     ]
    }
   ],
   "source": [
    "cart = Cart()\n",
    "\n",
    "while True:\n",
    "    print(\"Enter 'add' to add an item, 'remove' to remove an item, 'show' to display the current shopping cart, or 'quit' to exit.\")\n",
    "    user = input(\"What would you like to do? \").lower()\n",
    "\n",
    "    if user == \"add\":\n",
    "        item = input(\"What item would you like to add? \")\n",
    "        quantity = int(input(\"How many? \"))\n",
    "        cart.add_item(item, quantity)\n",
    "        \n",
    "    elif user == \"remove\":\n",
    "        item = input(\"What item would you like to remove? \")\n",
    "        cart.remove_item(item)\n",
    "\n",
    "    elif user == \"show\":\n",
    "        cart.show_cart()\n",
    "\n",
    "    elif user == \"quit\":\n",
    "        print(\"Thank you for shopping with us!\")\n",
    "        break\n",
    "\n",
    "    else:\n",
    "        print(\"Invalid input. Please try again.\")\n",
    "        \n",
    "print(\"Here is a summary of your shopping cart:\")\n",
    "cart.show_cart()\n"
   ]
  },
  {
   "cell_type": "markdown",
   "metadata": {},
   "source": [
    "### Exercise 2 - Write a Python class which has two methods get_String and print_String. get_String accept a string from the user and print_String print the string in upper case"
   ]
  },
  {
   "cell_type": "code",
   "execution_count": 4,
   "metadata": {},
   "outputs": [],
   "source": [
    "class StringModifier:\n",
    "    \n",
    "    def __init__(self):\n",
    "        self.my_string = \"\"\n",
    "        \n",
    "    def get_String(self):\n",
    "        self.my_string = input(\"Enter a string: \")\n",
    "        \n",
    "    def print_String(self):\n",
    "        print(self.my_string.upper())\n"
   ]
  },
  {
   "cell_type": "code",
   "execution_count": 5,
   "metadata": {},
   "outputs": [
    {
     "name": "stdout",
     "output_type": "stream",
     "text": [
      "Enter a string: \"OOPs are hard af!\"\n",
      "\"OOPS ARE HARD AF!\"\n"
     ]
    }
   ],
   "source": [
    "my_string_modifier = StringModifier()\n",
    "my_string_modifier.get_String()\n",
    "my_string_modifier.print_String()\n"
   ]
  }
 ],
 "metadata": {
  "kernelspec": {
   "display_name": "Python 3 (ipykernel)",
   "language": "python",
   "name": "python3"
  },
  "language_info": {
   "codemirror_mode": {
    "name": "ipython",
    "version": 3
   },
   "file_extension": ".py",
   "mimetype": "text/x-python",
   "name": "python",
   "nbconvert_exporter": "python",
   "pygments_lexer": "ipython3",
   "version": "3.9.13"
  }
 },
 "nbformat": 4,
 "nbformat_minor": 2
}
